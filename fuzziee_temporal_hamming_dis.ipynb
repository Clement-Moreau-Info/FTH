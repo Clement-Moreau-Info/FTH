{
  "nbformat": 4,
  "nbformat_minor": 0,
  "metadata": {
    "colab": {
      "name": "fuzziee_temporal_hamming_dis.ipynb",
      "provenance": [],
      "collapsed_sections": [],
      "toc_visible": true,
      "authorship_tag": "ABX9TyP3KVe78w2VgZUkPqQD9g2S",
      "include_colab_link": true
    },
    "kernelspec": {
      "name": "python3",
      "display_name": "Python 3"
    }
  },
  "cells": [
    {
      "cell_type": "markdown",
      "metadata": {
        "id": "view-in-github",
        "colab_type": "text"
      },
      "source": [
        "<a href=\"https://colab.research.google.com/github/Clement-Moreau-Info/FTH/blob/main/fuzziee_temporal_hamming_dis.ipynb\" target=\"_parent\"><img src=\"https://colab.research.google.com/assets/colab-badge.svg\" alt=\"Open In Colab\"/></a>"
      ]
    },
    {
      "cell_type": "markdown",
      "metadata": {
        "id": "ra24GMoYxlhY"
      },
      "source": [
        "## Import packages"
      ]
    },
    {
      "cell_type": "code",
      "metadata": {
        "colab": {
          "base_uri": "https://localhost:8080/"
        },
        "id": "4-TeuV52xIaV",
        "outputId": "4dfde355-153b-432e-a6e7-6d17ae153956"
      },
      "source": [
        "!pip install scikit-fuzzy\n",
        "\n",
        "import networkx as nx\n",
        "import pandas as pd\n",
        "import multiprocessing as mp\n",
        "import matplotlib.pyplot as plt\n",
        "from numba import prange\n",
        "from typing import List\n",
        "import skfuzzy as fuzz\n",
        "from scipy import signal\n",
        "import numpy as np\n",
        "from functools import lru_cache\n",
        "from scipy.spatial.distance import squareform\n",
        "from scipy.cluster import hierarchy\n",
        "from scipy.cluster.hierarchy import dendrogram, linkage, fcluster\n",
        "import time"
      ],
      "execution_count": null,
      "outputs": [
        {
          "output_type": "stream",
          "text": [
            "Collecting scikit-fuzzy\n",
            "\u001b[?25l  Downloading https://files.pythonhosted.org/packages/6c/f0/5eb5dbe0fd8dfe7d4651a8f4e591a196623a22b9e5339101e559695b4f6c/scikit-fuzzy-0.4.2.tar.gz (993kB)\n",
            "\u001b[K     |████████████████████████████████| 1.0MB 7.5MB/s \n",
            "\u001b[?25hRequirement already satisfied: numpy>=1.6.0 in /usr/local/lib/python3.6/dist-packages (from scikit-fuzzy) (1.19.5)\n",
            "Requirement already satisfied: scipy>=0.9.0 in /usr/local/lib/python3.6/dist-packages (from scikit-fuzzy) (1.4.1)\n",
            "Requirement already satisfied: networkx>=1.9.0 in /usr/local/lib/python3.6/dist-packages (from scikit-fuzzy) (2.5)\n",
            "Requirement already satisfied: decorator>=4.3.0 in /usr/local/lib/python3.6/dist-packages (from networkx>=1.9.0->scikit-fuzzy) (4.4.2)\n",
            "Building wheels for collected packages: scikit-fuzzy\n",
            "  Building wheel for scikit-fuzzy (setup.py) ... \u001b[?25l\u001b[?25hdone\n",
            "  Created wheel for scikit-fuzzy: filename=scikit_fuzzy-0.4.2-cp36-none-any.whl size=894070 sha256=b06aa63fd8b2559a13e7964c72011a1568b454d3cd09ae425478161168d231c9\n",
            "  Stored in directory: /root/.cache/pip/wheels/b9/4e/77/da79b16f64ef1738d95486e2731eea09d73e90a72465096600\n",
            "Successfully built scikit-fuzzy\n",
            "Installing collected packages: scikit-fuzzy\n",
            "Successfully installed scikit-fuzzy-0.4.2\n"
          ],
          "name": "stdout"
        }
      ]
    },
    {
      "cell_type": "code",
      "metadata": {
        "colab": {
          "base_uri": "https://localhost:8080/"
        },
        "id": "4DJpUoHMxwZZ",
        "outputId": "23fdd76f-62c5-48bb-c8f9-ea401997339d"
      },
      "source": [
        "# Import the ontology\n",
        "!wget https://gist.githubusercontent.com/Hector-Plasma/725b3cd76f89d347484e7ec21adee039/raw/48495e6f4d51d1bcfd555f03597c151beb5aa000/ontology_emd.txt -q --show-progress"
      ],
      "execution_count": null,
      "outputs": [
        {
          "output_type": "stream",
          "text": [
            "\rontology_emd.txt      0%[                    ]       0  --.-KB/s               \rontology_emd.txt    100%[===================>]     695  --.-KB/s    in 0s      \n"
          ],
          "name": "stdout"
        }
      ]
    },
    {
      "cell_type": "code",
      "metadata": {
        "id": "s9FqE1ToxxPr"
      },
      "source": [
        "@lru_cache(maxsize=100000)\n",
        "def wu_palmer(x: str, y: str, path: str, rootnode=\"All\") -> float:\n",
        "    ontologie = nx.read_adjlist(path, create_using=nx.DiGraph)\n",
        "    return (2.0 * nx.shortest_path_length(ontologie, rootnode, nx.lowest_common_ancestor(ontologie, x, y))) / (\n",
        "            nx.shortest_path_length(ontologie, rootnode, x) + nx.shortest_path_length(ontologie, rootnode, y))\n",
        "\n",
        "# Path to onntology\n",
        "path_onto = \"ontology_emd.txt\"\n",
        "\n",
        "# Define the similarity used\n",
        "def sim(x: str, y: str) -> float:\n",
        "    return wu_palmer(x, y, path_onto)"
      ],
      "execution_count": null,
      "outputs": []
    },
    {
      "cell_type": "markdown",
      "metadata": {
        "id": "h0wYDWcnyBxV"
      },
      "source": [
        "# Dissimilarity index between temporal sequences"
      ]
    },
    {
      "cell_type": "markdown",
      "metadata": {
        "id": "U6wRrwBvyLkt"
      },
      "source": [
        "## Temporal sequences"
      ]
    },
    {
      "cell_type": "markdown",
      "metadata": {
        "id": "onrx6bffyN9b"
      },
      "source": [
        "Consider a sequence of activities $S_i=\\langle (x_{i1}, \\delta_{i1}), ... (x_{in}, \\delta_{in})\\rangle$ such that $x_{ik} \\in \\Sigma$, where $\\Sigma$ is an alphabet  of symbols and $\\delta_{ik} > 0$ represent the time duration of the symbol $x_{ik}$. \n",
        "\n",
        "For code simplicity, we split $S_i$ in two vectors : \n",
        "\n",
        "- `acts` contains the activities $x_{ik}$.\n",
        "- `times` contains the time durations $\\delta_{ik}$ of $x_{ik}$."
      ]
    },
    {
      "cell_type": "markdown",
      "metadata": {
        "id": "hiGzLfDtzAsX"
      },
      "source": [
        "We consider formally that we have, for example, a sequence $S_1$ such that:\n",
        "\n",
        "$S_1 = \\langle$(🏡 ,210), (🚃 , 20), (🚶‍♂️, 10) (💼 , 250), (🚶‍♂️, 15), (🍽, 60), (🚃  ', 15), (💼  ', 290), (🏡 , 570)$\\rangle$\n",
        "\n",
        "encoded like this. "
      ]
    },
    {
      "cell_type": "code",
      "metadata": {
        "id": "a_UzZiB5x-5A"
      },
      "source": [
        "class Temporal_seq:\n",
        "    def __init__(self, acts: List[str], times: List[float]) -> None:\n",
        "        self.acts = acts\n",
        "        self.times = times"
      ],
      "execution_count": null,
      "outputs": []
    },
    {
      "cell_type": "code",
      "metadata": {
        "id": "WJq6GIrnVDfp"
      },
      "source": [
        "# Vector of x_ik\n",
        "S_alice = Temporal_seq(['1', '133', '100', '11', '100', '51', '131', '12', '1'], \n",
        "                       [210,  20,    10,    250,  15,    60,   15,    290,  570])\n",
        "\n",
        "S_bob = Temporal_seq(['1', '100', '133', '11', '100', '1'], \n",
        "                     [230,  10,   30,    480,  60, 630])"
      ],
      "execution_count": null,
      "outputs": []
    },
    {
      "cell_type": "markdown",
      "metadata": {
        "id": "1yG2Z5sG0GoF"
      },
      "source": [
        "Thus, we consider $T_{\\max} = 1440$, the number of minutes during a day and $I= [0, T_{\\max})$."
      ]
    },
    {
      "cell_type": "code",
      "metadata": {
        "id": "EK8B_Y_10F8K"
      },
      "source": [
        "interval_step = 5\n",
        "\n",
        "I = np.arange(0, np.sum(S_alice.times), interval_step)"
      ],
      "execution_count": null,
      "outputs": []
    },
    {
      "cell_type": "markdown",
      "metadata": {
        "id": "oWYczz1cz9_a"
      },
      "source": [
        "## Edit Operation"
      ]
    },
    {
      "cell_type": "markdown",
      "metadata": {
        "id": "S8Kj4aZz0qAH"
      },
      "source": [
        "Now, consider we want to modify a portion of $S_i$ by an other. Suppose we want to edit edit a new symbol $x$ for $\\delta$ unit of time at the time $t_{edit}$ in the sequence $S_i$. \n",
        "\n",
        "Formaly, an edit operation $e$ is a 4-uplet such that:\n",
        "\n",
        "$$e = (x, \\delta, t_{edit}, S_i)$$\n",
        "\n",
        "---\n",
        "Here we want **modify by work activity 💼  (11) during 480 minutes at time 270**. "
      ]
    },
    {
      "cell_type": "code",
      "metadata": {
        "id": "DdwLzp9p0mn4"
      },
      "source": [
        "class Edit:\n",
        "    def __init__(self, x: str, delta: float, t_edit: float, S_i: Temporal_seq):\n",
        "        self.x = x\n",
        "        self.delta = delta\n",
        "        self.t_edit = t_edit\n",
        "        self.S_i = S_i\n",
        "\n",
        "\n",
        "e = Edit('11', 480, 270, S_alice)"
      ],
      "execution_count": null,
      "outputs": []
    },
    {
      "cell_type": "markdown",
      "metadata": {
        "id": "1k82JX3vla2R"
      },
      "source": [
        "We define a context function $\\mu_e$, center on $t_{edit}$ and such that: $\\text{Core}(\\mu_e) = \\{t\\in I|\\mu_e(t)=1\\} = [t_{edit}, t_{edit} + \\delta)$."
      ]
    },
    {
      "cell_type": "code",
      "metadata": {
        "colab": {
          "base_uri": "https://localhost:8080/",
          "height": 500
        },
        "id": "9w7TsAb4laJY",
        "outputId": "44e7aa6d-7a00-4739-bdec-95ad6d008022"
      },
      "source": [
        "# Control the gradient (here 4 hours)\n",
        "time_window = 240\n",
        "\n",
        "def fuzzy_context(e: Edit, time_window = 480) -> List[float]:\n",
        "  return fuzz.trapmf(np.arange(0, np.sum(e.S_i.times), interval_step),\n",
        "                     [e.t_edit - time_window, e.t_edit, e.t_edit + e.delta, e.t_edit + e.delta + time_window])\n",
        "\n",
        "mu = fuzzy_context(e, time_window)\n",
        "plt.figure(figsize=(10, 8))\n",
        "plt.plot(I, mu, 'r')"
      ],
      "execution_count": null,
      "outputs": [
        {
          "output_type": "execute_result",
          "data": {
            "text/plain": [
              "[<matplotlib.lines.Line2D at 0x7f0ab62f1b00>]"
            ]
          },
          "metadata": {
            "tags": []
          },
          "execution_count": 9
        },
        {
          "output_type": "display_data",
          "data": {
            "image/png": "[encoded data removed]",
            "text/plain": [
              "<Figure size 720x576 with 1 Axes>"
            ]
          },
          "metadata": {
            "tags": [],
            "needs_background": "light"
          }
        }
      ]
    },
    {
      "cell_type": "markdown",
      "metadata": {
        "id": "ST9v1CzQl7rL"
      },
      "source": [
        "Now, we plot the similarity function over the sequence,  $sim_e(t)$ which represents the similarity between $x$ and all symbols in $S_i$ for each time $t \\in I$. \n",
        "\n",
        "Formally, $sim_e$ is defined such that : \n",
        "\n",
        "$$sim_S(t) = \\sum_{k=1}^{n} \\mathbf{1}_{I(x_{ik})}(t)\\times sim(x_{ik}, x)$$\n",
        "\n",
        "where $\\mathbf{1}_A$ is the indicator function such that $\\mathbf{1}_A(t)=\\begin{cases}\n",
        "1 & \\text{if }t\\in A\\\\\n",
        "0 & \\text{else}\n",
        "\\end{cases}$ and $I(x_{ik})$ the time interval of activity $x_{ik}$. "
      ]
    },
    {
      "cell_type": "code",
      "metadata": {
        "colab": {
          "base_uri": "https://localhost:8080/",
          "height": 500
        },
        "id": "-ewnZXAml1Kq",
        "outputId": "bf889353-3abe-440e-b40e-954d3a2d23e8"
      },
      "source": [
        "def sim_e(e: Edit, t: float) -> float:\n",
        "    for i in prange(len(e.S_i.times)):\n",
        "        if np.sum(e.S_i.times[:i]) <= t < np.sum(e.S_i.times[:i + 1]):\n",
        "            return sim(e.S_i.acts[i], e.x)\n",
        "    return 0\n",
        "\n",
        "sim_fun = [sim_e(e, t) for t in I]\n",
        "plt.figure(figsize=(10, 8))\n",
        "plt.plot(I, sim_fun, 'b')\n",
        "plt.plot(I, mu, 'r')"
      ],
      "execution_count": null,
      "outputs": [
        {
          "output_type": "execute_result",
          "data": {
            "text/plain": [
              "[<matplotlib.lines.Line2D at 0x7f0ab6266ba8>]"
            ]
          },
          "metadata": {
            "tags": []
          },
          "execution_count": 10
        },
        {
          "output_type": "display_data",
          "data": {
            "image/png": "[encoded data removed]",
            "text/plain": [
              "<Figure size 720x576 with 1 Axes>"
            ]
          },
          "metadata": {
            "tags": [],
            "needs_background": "light"
          }
        }
      ]
    },
    {
      "cell_type": "markdown",
      "metadata": {
        "id": "zncDCfI0oPao"
      },
      "source": [
        "At this point, we can make the fusion by a $\\top$-norm of these two previous functions. \n",
        "\n",
        "Here, we assume that $\\top(x,y) = x\\times y$."
      ]
    },
    {
      "cell_type": "code",
      "metadata": {
        "colab": {
          "base_uri": "https://localhost:8080/",
          "height": 500
        },
        "id": "5Y_wOvNHnE7K",
        "outputId": "435a1d7a-abd9-4172-9d49-cc0293a1121c"
      },
      "source": [
        "sim_context = [mu[i] * sim_fun[i] for i in range(len(I))]\n",
        "\n",
        "plt.figure(figsize=(10, 8))\n",
        "plt.plot(I, sim_context, 'm')\n",
        "#plt.plot(I, sim_fun, 'b')\n",
        "#plt.plot(I, mu, 'r')"
      ],
      "execution_count": null,
      "outputs": [
        {
          "output_type": "execute_result",
          "data": {
            "text/plain": [
              "[<matplotlib.lines.Line2D at 0x7f0ab5d4c518>]"
            ]
          },
          "metadata": {
            "tags": []
          },
          "execution_count": 11
        },
        {
          "output_type": "display_data",
          "data": {
            "image/png": "[encoded data removed]",
            "text/plain": [
              "<Figure size 720x576 with 1 Axes>"
            ]
          },
          "metadata": {
            "tags": [],
            "needs_background": "light"
          }
        }
      ]
    },
    {
      "cell_type": "markdown",
      "metadata": {
        "id": "flleieS9oWup"
      },
      "source": [
        "## Edit cost function"
      ]
    },
    {
      "cell_type": "markdown",
      "metadata": {
        "id": "jewVCPzJqyOc"
      },
      "source": [
        "### Normalized $\\gamma$ cost"
      ]
    },
    {
      "cell_type": "markdown",
      "metadata": {
        "id": "M-FQo0jGpalj"
      },
      "source": [
        "Thanks to the previous definitions, we can developpe a function to assign a cost to an edit operator $e = (x, \\delta, t_{edit}, S_i)$. \n",
        "We consider the following normalized cost function $\\gamma$:\n",
        "\n",
        "$$\\gamma(e) = 1 - \\sup_{\\tau\\in I}\\left\\{\\int_{\\tau}^{\\tau+\\delta} sim_e(t) \\times \\mu_e(t)dt\\right\\}$$\n",
        "\n",
        "\n",
        "Formally, the cost can be view as $1 -$ the sup of the convolution function  $(sim_e(t) \\times \\mu_e(t)) * \\mathbf{1}_{[0,\\delta)}$"
      ]
    },
    {
      "cell_type": "code",
      "metadata": {
        "colab": {
          "base_uri": "https://localhost:8080/",
          "height": 500
        },
        "id": "of7uyz42oWJK",
        "outputId": "df7340b7-de9a-4331-afd8-4edcc46948d6"
      },
      "source": [
        "tab_gate = np.arange(0, e.delta, interval_step)\n",
        "gate = fuzz.trapmf(tab_gate, [0, 0, e.delta, e.delta])\n",
        "\n",
        "convo = signal.convolve(sim_context, gate, mode='same') / (e.delta / interval_step)\n",
        "\n",
        "plt.figure(figsize=(10, 8))\n",
        "plt.plot(I, convo, 'k')"
      ],
      "execution_count": null,
      "outputs": [
        {
          "output_type": "execute_result",
          "data": {
            "text/plain": [
              "[<matplotlib.lines.Line2D at 0x7f0ab5da4e10>]"
            ]
          },
          "metadata": {
            "tags": []
          },
          "execution_count": 12
        },
        {
          "output_type": "display_data",
          "data": {
            "image/png": "[encoded data removed]",
            "text/plain": [
              "<Figure size 720x576 with 1 Axes>"
            ]
          },
          "metadata": {
            "tags": [],
            "needs_background": "light"
          }
        }
      ]
    },
    {
      "cell_type": "code",
      "metadata": {
        "colab": {
          "base_uri": "https://localhost:8080/"
        },
        "id": "jGpUVyf5oRxg",
        "outputId": "cccb65e8-0031-4092-c04d-ea1d10dfd13b"
      },
      "source": [
        "print(\"cost = \", 1 - np.max(convo))"
      ],
      "execution_count": null,
      "outputs": [
        {
          "output_type": "stream",
          "text": [
            "cost =  0.337890625\n"
          ],
          "name": "stdout"
        }
      ]
    },
    {
      "cell_type": "markdown",
      "metadata": {
        "id": "Lf3TU5n5q3Y7"
      },
      "source": [
        "### Time-weighted $\\Delta$ cost"
      ]
    },
    {
      "cell_type": "markdown",
      "metadata": {
        "id": "d29dsw4Tq8hm"
      },
      "source": [
        "In order to take more into accound duration, we can weight the $\\gamma$ cost function by $\\delta$ such that:\n",
        "$$\\Delta(e) = \\delta \\gamma(e)$$"
      ]
    },
    {
      "cell_type": "code",
      "metadata": {
        "colab": {
          "base_uri": "https://localhost:8080/"
        },
        "id": "VO0d7lIEq7pM",
        "outputId": "a373442c-ec1e-4ba6-93e5-e0b41f4ba4b6"
      },
      "source": [
        "print(\"cost = \", e.delta * (1 - np.max(convo)))"
      ],
      "execution_count": null,
      "outputs": [
        {
          "output_type": "stream",
          "text": [
            "cost =  162.1875\n"
          ],
          "name": "stdout"
        }
      ]
    },
    {
      "cell_type": "code",
      "metadata": {
        "id": "bCehxwyhquPg"
      },
      "source": [
        "def cost_gamma(e: Edit, interval_step = 5, time_window = 480) -> float:\n",
        "  I = np.arange(0, np.sum(e.S_i.times), interval_step)\n",
        "  mu = fuzz.trapmf(I, [e.t_edit - time_window, e.t_edit, e.t_edit + e.delta,\n",
        "                       e.t_edit + e.delta + time_window])\n",
        "  sim_fun = [sim_e(e, t) for t in I]\n",
        "  sim_context = [mu[i] * sim_fun[i] for i in range(len(I))]\n",
        "  tab_gate = np.arange(0, e.delta, interval_step)\n",
        "  gate = fuzz.trapmf(tab_gate, [0, 0, e.delta, e.delta])\n",
        "  convo = signal.convolve(sim_context, gate, mode='same') / (e.delta / interval_step)\n",
        "  return 1 - np.max(convo)\n",
        "\n",
        "def cost_delta(e: Edit, interval_step = 0.1, time_window = 4) -> float:\n",
        "  return e.delta * cost_gamma(e, interval_step, time_window)"
      ],
      "execution_count": null,
      "outputs": []
    },
    {
      "cell_type": "markdown",
      "metadata": {
        "id": "uG_4wOKdTDRN"
      },
      "source": [
        "## Fuzzy dissimilarity index between temporal sequences"
      ]
    },
    {
      "cell_type": "markdown",
      "metadata": {
        "id": "ISWlPEH_UUdT"
      },
      "source": [
        "Finally, given two temporal sequences $S_1$ and $S_2$, we defined a one-sided dissimilarity $FTH_{S_1 \\rightarrow S_2}$ from $S_1 \\in \\mathbb{S}^n$ to $S_2\\in \\mathbb{S}^p$ such that:\n",
        "\n",
        "$$FTH_{S_1 \\rightarrow S_2} = \\sum_{i=1}^n f(e_i)$$\n",
        "\n",
        "where $e_i = \\left(x_{1i}, \\delta_{1i}, \\sum_{k=1}^{i-1}\\delta_{1k}, S_2\\right)$ and $f:\\mathbb{E} \\rightarrow \\mathbb{R}^+$ a cost function e.g., $\\gamma$ or $\\Delta$."
      ]
    },
    {
      "cell_type": "code",
      "metadata": {
        "id": "cjU78N_5TCSm"
      },
      "source": [
        "def one_sided_dist(S1: Temporal_seq, S2: Temporal_seq, f = cost_delta, interval_step = 5, time_window = 720) -> float:\n",
        "  sum = 0\n",
        "  for i in prange(len(S1.acts)):\n",
        "    e = Edit(S1.acts[i], S1.times[i], np.sum(S1.times[:i]), S2)\n",
        "    sum += f(e, interval_step, time_window)\n",
        "  return sum"
      ],
      "execution_count": null,
      "outputs": []
    },
    {
      "cell_type": "markdown",
      "metadata": {
        "id": "-GSKjj09XDXs"
      },
      "source": [
        "Let us compute the distance $S_{alice} \\rightarrow S_{bob}$:"
      ]
    },
    {
      "cell_type": "code",
      "metadata": {
        "colab": {
          "base_uri": "https://localhost:8080/"
        },
        "id": "ko8fY6fsXCFG",
        "outputId": "481ea521-4c6d-4aea-e3bd-0f74f299fc31"
      },
      "source": [
        "print(one_sided_dist(S_alice, S_bob, cost_delta, 5, 240))"
      ],
      "execution_count": null,
      "outputs": [
        {
          "output_type": "stream",
          "text": [
            "252.30654761904762\n"
          ],
          "name": "stdout"
        }
      ]
    },
    {
      "cell_type": "markdown",
      "metadata": {
        "id": "he1L3PhrZVbW"
      },
      "source": [
        "The reverse $S_{bob} \\rightarrow S_{alice}$:"
      ]
    },
    {
      "cell_type": "code",
      "metadata": {
        "colab": {
          "base_uri": "https://localhost:8080/"
        },
        "id": "O6mmbEizZdcm",
        "outputId": "9e53e9aa-8b88-4ed3-d164-7405e88eadbe"
      },
      "source": [
        "print(one_sided_dist(S_bob, S_alice, cost_delta, 5, 240))"
      ],
      "execution_count": null,
      "outputs": [
        {
          "output_type": "stream",
          "text": [
            "280.22321428571433\n"
          ],
          "name": "stdout"
        }
      ]
    },
    {
      "cell_type": "markdown",
      "metadata": {
        "id": "8SC2VuXWYHa1"
      },
      "source": [
        "We recover the symetry thanks to a $\\top$-norm operator e.g, $\\max$. \n",
        "\n",
        "$$FTH(S_1,S_2) = \\max\\left\\{FTH_{S_1 \\rightarrow S_2}, FTH_{S_2 \\rightarrow S_1}\\right\\}$$"
      ]
    },
    {
      "cell_type": "code",
      "metadata": {
        "id": "U5wNsp2UYQsF"
      },
      "source": [
        "def dist(S1: Temporal_seq, S2: Temporal_seq, f = cost_delta, interval_step = 5, time_window = 480, agg = max)-> float:\n",
        "  return agg(one_sided_dist(S1, S2, f, interval_step, time_window),\n",
        "             one_sided_dist(S2, S1, f, interval_step, time_window))"
      ],
      "execution_count": null,
      "outputs": []
    },
    {
      "cell_type": "markdown",
      "metadata": {
        "id": "Q-t-3aAjJDAf"
      },
      "source": [
        "# Other measures on Temporal sequences"
      ]
    },
    {
      "cell_type": "markdown",
      "metadata": {
        "id": "WKjaQnh5h8c_"
      },
      "source": [
        "## Hamming Distance"
      ]
    },
    {
      "cell_type": "code",
      "metadata": {
        "id": "ltP6fY8Sh_ts"
      },
      "source": [
        "def to_discrete(S_i: Temporal_seq, unit_of_time: float) -> List[str]:\n",
        "  return [S_i.acts[k] for k in range(len(S_i.acts)) for j in range(int(S_i.times[k] / unit_of_time))]\n",
        "\n",
        "def hamming(S1 : List[str], S2: List[str]) -> float:\n",
        "  sum = 0\n",
        "  for i in range(len(S1)):\n",
        "    sum += 1 - sim(S1[i], S2[i])\n",
        "  return sum"
      ],
      "execution_count": null,
      "outputs": []
    },
    {
      "cell_type": "markdown",
      "metadata": {
        "id": "mmsoWCyQ1GgL"
      },
      "source": [
        "## DTW"
      ]
    },
    {
      "cell_type": "code",
      "metadata": {
        "id": "i6jcB57x1IZk"
      },
      "source": [
        "def dtw(seq1, seq2):\n",
        "    n =  len(seq1)\n",
        "    p = len(seq2)\n",
        "    dtw_matrix = np.zeros((n+1, p+1))\n",
        "    for i in range(n+1):\n",
        "        for j in range(p+1):\n",
        "            dtw_matrix[i, j] = np.inf\n",
        "    dtw_matrix[0, 0] = 0\n",
        "    \n",
        "    for i in range(1, n+1):\n",
        "        for j in range(1, p+1):\n",
        "            cost = 1 - sim(seq1[i-1], seq2[j-1])\n",
        "            dtw_matrix[i, j] = cost + min(dtw_matrix[i-1, j],\n",
        "                                          dtw_matrix[i, j-1],\n",
        "                                          dtw_matrix[i-1, j-1])\n",
        "    return dtw_matrix[n, p]"
      ],
      "execution_count": null,
      "outputs": []
    },
    {
      "cell_type": "markdown",
      "metadata": {
        "id": "qhER39emO1wx"
      },
      "source": [
        "## LCS"
      ]
    },
    {
      "cell_type": "code",
      "metadata": {
        "id": "RwZGWyLMO1Ci"
      },
      "source": [
        "def lcs(seq1, seq2): \n",
        "    n = len(seq1) \n",
        "    p = len(seq2) \n",
        "  \n",
        "    dist = np.zeros((n + 1, p + 1))\n",
        "\n",
        "    for i in range(n + 1): \n",
        "        for j in range(p + 1): \n",
        "            if i == 0 or j == 0 : \n",
        "                dist[i, j] = 0\n",
        "            elif seq1[i-1] == seq2[j-1]: \n",
        "                dist[i, j] = dist[i-1, j-1] + 1\n",
        "            else: \n",
        "                dist[i, j] = max(dist[i-1,j], dist[i,j-1]) \n",
        "    return len(seq1) + len(seq2) - 2 * dist[n, p] "
      ],
      "execution_count": null,
      "outputs": []
    },
    {
      "cell_type": "markdown",
      "metadata": {
        "id": "l2Nb1iFmzk0A"
      },
      "source": [
        "## Edit Distance"
      ]
    },
    {
      "cell_type": "code",
      "metadata": {
        "id": "6-UIR0L9zjy8"
      },
      "source": [
        "def edit_dist(seq1, seq2):\n",
        "    n =  len(seq1)\n",
        "    p = len(seq2)\n",
        "    dist = np.zeros((n + 1, p + 1))\n",
        "    for i in range(n + 1):\n",
        "        for j in range(p + 1):\n",
        "            if i == 0 or j == 0:\n",
        "                dist[i, j] = j + i\n",
        "            else:\n",
        "                cost = 1 - sim(seq1[i-1], seq2[j-1])\n",
        "                dist[i, j] = round(min(dist[i - 1, j-1] + cost,\n",
        "                                       dist[i - 1, j] + 1,\n",
        "                                       dist[i, j - 1] + 1), 2)\n",
        "    return dist[n, p]"
      ],
      "execution_count": null,
      "outputs": []
    },
    {
      "cell_type": "markdown",
      "metadata": {
        "id": "H_LqkML0YZPB"
      },
      "source": [
        "# Running Example"
      ]
    },
    {
      "cell_type": "code",
      "metadata": {
        "id": "BajvDnxuYajz"
      },
      "source": [
        "S1 = Temporal_seq(['1', '12', '131', '11', '133', '51',   '131', '100', '12','1'], \n",
        "                  [240,  60,   60,    60,  60,   90,   60, 60, 120, 630])\n",
        "                \n",
        "S2 = Temporal_seq(['1', '133', '11', '131', '12', '51', '100', '131', '12', '1' ], \n",
        "                  [240,  60,    60,    60,    60,   90,  60,  60,120,  630])\n",
        "\n",
        "S3 = Temporal_seq(['1', '131', '11', '131', '11', '51', '11', '131', '11', '131', '1' ],\n",
        "                  [240,  60,    60,   60,     60,     90,  60,    60,    60,    60,   630] )\n",
        "\n",
        "S4 = Temporal_seq(['1', '131', '11', '131', '11', '51', '11', '131', '11', '131', '1' ],\n",
        "                  [300,  60,    60,   60,     60,     90,  60,    60,    60,    60,   570] )\n",
        "\n",
        "S5 = Temporal_seq(['1', '100',  '11', '51', '100', '12', '1' ],\n",
        "                  [240,  60,    180,   90,    60,   180,   630] )\n",
        "\n",
        "S6 = Temporal_seq(['1', '100', '12',  '51', '100', '12',  '1' ],\n",
        "                  [330,   60,   180,    90,     60, 180,    540] )\n",
        "\n",
        "seq_example = [S1, S2, S3, S4, S5, S6]\n",
        "\n",
        "seq_example_discrete = [to_discrete(S, 1) for S in seq_example]\n",
        "\n",
        "df = pd.DataFrame(seq_example_discrete) \n",
        "df.to_csv(\"seq_example.csv\")"
      ],
      "execution_count": null,
      "outputs": []
    },
    {
      "cell_type": "markdown",
      "metadata": {
        "id": "aVUZAAwfynxp"
      },
      "source": [
        "## Clustering"
      ]
    },
    {
      "cell_type": "markdown",
      "metadata": {
        "id": "DkGMqqnyy0_T"
      },
      "source": [
        "### Fuzzy Hamming ($\\gamma$ cost)"
      ]
    },
    {
      "cell_type": "code",
      "metadata": {
        "id": "X0AVhwrTy0kd"
      },
      "source": [
        "nb_sequences = len(seq_example)\n",
        "\n",
        "pool = mp.Pool(mp.cpu_count())\n",
        "result_gamma = pool.starmap(dist, [(seq_example[i], seq_example[j], cost_gamma) for i in range(nb_sequences) for j in range(i + 1, nb_sequences)])\n",
        "pool.close()"
      ],
      "execution_count": null,
      "outputs": []
    },
    {
      "cell_type": "code",
      "metadata": {
        "colab": {
          "base_uri": "https://localhost:8080/",
          "height": 393
        },
        "id": "ySpYk52my8vO",
        "outputId": "b04e0454-b006-416c-ddf2-5a4bdaee624f"
      },
      "source": [
        "fig = plt.figure(figsize=(8,6))\n",
        "ax = plt.title(label = \"Gamma\")\n",
        "\n",
        "gamma_matrix = squareform(np.array(result_gamma))\n",
        "gamma_csv = np.savetxt(\"gamma_dist.csv\", gamma_matrix)\n",
        "\n",
        "linkage_matrix = linkage(result_gamma, \"ward\")\n",
        "\n",
        "hierarchy.set_link_color_palette(['#6151E6','#EE853A', '#FF2600'])\n",
        "\n",
        "dendo = dendrogram(linkage_matrix, labels=range(1, nb_sequences + 1),\n",
        "                   color_threshold=2, above_threshold_color='black')\n",
        "\n",
        "#plt.show()\n",
        "fig.savefig(\"gamma_dendo.pdf\")"
      ],
      "execution_count": null,
      "outputs": [
        {
          "output_type": "display_data",
          "data": {
            "image/png": "[encoded data removed]",
            "text/plain": [
              "<Figure size 576x432 with 1 Axes>"
            ]
          },
          "metadata": {
            "tags": [],
            "needs_background": "light"
          }
        }
      ]
    },
    {
      "cell_type": "markdown",
      "metadata": {
        "id": "l-SLjVFCysfg"
      },
      "source": [
        "## Fuzzy Hamming ($\\Delta$ cost)"
      ]
    },
    {
      "cell_type": "code",
      "metadata": {
        "id": "xT_VNCOJggh_"
      },
      "source": [
        "nb_sequences = len(seq_example)\n",
        "\n",
        "pool = mp.Pool(mp.cpu_count())\n",
        "result_delta = pool.starmap(dist, [(seq_example[i], seq_example[j]) for i in range(nb_sequences) for j in range(i + 1, nb_sequences)])\n",
        "pool.close()"
      ],
      "execution_count": null,
      "outputs": []
    },
    {
      "cell_type": "code",
      "metadata": {
        "colab": {
          "base_uri": "https://localhost:8080/",
          "height": 393
        },
        "id": "phnU3x08mmjk",
        "outputId": "96adaee9-cb90-473f-88b2-871e69f1744c"
      },
      "source": [
        "fig = plt.figure(figsize=(8,6))\n",
        "ax = plt.title(label = \"Delta\")\n",
        "\n",
        "linkage_matrix = linkage(result_delta, \"ward\")\n",
        "dendo = dendrogram(linkage_matrix, labels=range(1, nb_sequences + 1),\n",
        "                   color_threshold=230, above_threshold_color='black')\n",
        "\n",
        "\n",
        "hierarchy.set_link_color_palette(['#FF2600', '#EE853A', '#6151E6'])\n",
        "\n",
        "fig.savefig(\"delta_dendo.pdf\")\n",
        "\n",
        "delta_matrix = squareform(np.array(result_delta))\n",
        "delta_csv = np.savetxt(\"delta_dist.csv\", delta_matrix)"
      ],
      "execution_count": null,
      "outputs": [
        {
          "output_type": "display_data",
          "data": {
            "image/png": "[encoded data removed]",
            "text/plain": [
              "<Figure size 576x432 with 1 Axes>"
            ]
          },
          "metadata": {
            "tags": [],
            "needs_background": "light"
          }
        }
      ]
    },
    {
      "cell_type": "markdown",
      "metadata": {
        "id": "tubVGolqy_tC"
      },
      "source": [
        "## Hamming "
      ]
    },
    {
      "cell_type": "code",
      "metadata": {
        "id": "0QxMLEnRPMGa"
      },
      "source": [
        "pool = mp.Pool(mp.cpu_count())\n",
        "result_hamming = pool.starmap(hamming, [(seq_example_discrete[i], seq_example_discrete[j]) for i in range(nb_sequences) for j in range(i + 1, nb_sequences)])\n",
        "pool.close()\n",
        "\n",
        "hamming_matrix = squareform(np.array(result_hamming))\n",
        "hamming_csv = np.savetxt(\"hamming_dist.csv\", hamming_matrix)"
      ],
      "execution_count": null,
      "outputs": []
    },
    {
      "cell_type": "code",
      "metadata": {
        "colab": {
          "base_uri": "https://localhost:8080/",
          "height": 393
        },
        "id": "nHWCiGjmh5Zg",
        "outputId": "8f6d00e7-8fee-47cd-c748-9dcffc1906be"
      },
      "source": [
        "fig = plt.figure(figsize=(8,6))\n",
        "ax = plt.title(label = \"Hamming\")\n",
        "\n",
        "linkage_matrix = linkage(result_hamming , \"ward\")\n",
        "dendo = dendrogram(linkage_matrix, labels=range(1, nb_sequences + 1),       \n",
        "                   color_threshold=10, above_threshold_color='black')\n",
        "\n",
        "\n",
        "fig.savefig(\"hamming_dendo.pdf\")\n",
        "plt.show()"
      ],
      "execution_count": null,
      "outputs": [
        {
          "output_type": "display_data",
          "data": {
            "image/png": "[encoded data removed]",
            "text/plain": [
              "<Figure size 576x432 with 1 Axes>"
            ]
          },
          "metadata": {
            "tags": [],
            "needs_background": "light"
          }
        }
      ]
    },
    {
      "cell_type": "markdown",
      "metadata": {
        "id": "HEom6iPjzG9W"
      },
      "source": [
        "## DTW"
      ]
    },
    {
      "cell_type": "code",
      "metadata": {
        "id": "YIyPn79T1qdo"
      },
      "source": [
        "pool = mp.Pool(mp.cpu_count())\n",
        "result_dtw = pool.starmap(dtw, [(seq_example_discrete[i], seq_example_discrete[j]) for i in range(nb_sequences) for j in range(i + 1, nb_sequences)])\n",
        "pool.close()"
      ],
      "execution_count": null,
      "outputs": []
    },
    {
      "cell_type": "code",
      "metadata": {
        "colab": {
          "base_uri": "https://localhost:8080/",
          "height": 393
        },
        "id": "vl8s__oJ1zeU",
        "outputId": "56a73735-0fa5-4208-a314-1e086aae1885"
      },
      "source": [
        "fig = plt.figure(figsize=(8,6))\n",
        "ax = plt.title(label = \"DTW\")\n",
        "\n",
        "linkage_matrix = linkage(result_dtw , \"ward\")\n",
        "dendo = dendrogram(linkage_matrix, labels=range(1, nb_sequences + 1),      \n",
        "                   color_threshold=100, above_threshold_color='black')\n",
        "\n",
        "hierarchy.set_link_color_palette(['#FF2600', '#EE853A', '#6151E6'])\n",
        "\n",
        "fig.savefig(\"dtw_dendo.pdf\")\n",
        "\n",
        "dtw_matrix = squareform(np.array(result_dtw))\n",
        "dtw_csv = np.savetxt(\"dtw_dist.csv\", dtw_matrix)"
      ],
      "execution_count": null,
      "outputs": [
        {
          "output_type": "display_data",
          "data": {
            "image/png": "[encoded data removed]",
            "text/plain": [
              "<Figure size 576x432 with 1 Axes>"
            ]
          },
          "metadata": {
            "tags": [],
            "needs_background": "light"
          }
        }
      ]
    },
    {
      "cell_type": "markdown",
      "metadata": {
        "id": "oqVjBiCxzN6p"
      },
      "source": [
        "## Edit Distance"
      ]
    },
    {
      "cell_type": "code",
      "metadata": {
        "id": "tgq1OFUtzNKT"
      },
      "source": [
        "pool = mp.Pool(mp.cpu_count())\n",
        "result_edit = pool.starmap(edit_dist, [(seq_example_discrete[i], seq_example_discrete[j]) for i in range(nb_sequences) for j in range(i + 1, nb_sequences)])\n",
        "pool.close()"
      ],
      "execution_count": null,
      "outputs": []
    },
    {
      "cell_type": "code",
      "metadata": {
        "colab": {
          "base_uri": "https://localhost:8080/",
          "height": 393
        },
        "id": "0pHuP9u41pmS",
        "outputId": "82f0f14c-e5a1-4d8e-9fa2-404747296d2b"
      },
      "source": [
        "fig = plt.figure(figsize=(8,6))\n",
        "ax = plt.title(label = \"Edit\")\n",
        "\n",
        "linkage_matrix = linkage(result_edit , \"ward\")\n",
        "dendo = dendrogram(linkage_matrix, labels=range(1, nb_sequences + 1),      \n",
        "                   color_threshold=150, above_threshold_color='black')\n",
        "hierarchy.set_link_color_palette(['#FF2600', '#EE853A', '#6151E6'])\n",
        "\n",
        "fig.savefig(\"edit_dendo.pdf\")\n",
        "\n",
        "plt.show()\n",
        "\n",
        "edit_matrix = squareform(np.array(result_edit))\n",
        "edit_csv = np.savetxt(\"edit_dist.csv\", edit_matrix)"
      ],
      "execution_count": null,
      "outputs": [
        {
          "output_type": "display_data",
          "data": {
            "image/png": "[encoded data removed]",
            "text/plain": [
              "<Figure size 576x432 with 1 Axes>"
            ]
          },
          "metadata": {
            "tags": [],
            "needs_background": "light"
          }
        }
      ]
    },
    {
      "cell_type": "markdown",
      "metadata": {
        "id": "LspuoBrZzVNt"
      },
      "source": [
        "## LCS"
      ]
    },
    {
      "cell_type": "code",
      "metadata": {
        "id": "wKyOCWBzzUgI"
      },
      "source": [
        "pool = mp.Pool(mp.cpu_count())\n",
        "result_lcs = pool.starmap(lcs, [(seq_example_discrete[i], seq_example_discrete[j]) for i in range(nb_sequences) for j in range(i + 1, nb_sequences)])\n",
        "pool.close()"
      ],
      "execution_count": null,
      "outputs": []
    },
    {
      "cell_type": "code",
      "metadata": {
        "colab": {
          "base_uri": "https://localhost:8080/",
          "height": 393
        },
        "id": "3vMIIznmLu2f",
        "outputId": "8af590a8-385d-4ba8-976a-a8457621dd8b"
      },
      "source": [
        "fig = plt.figure(figsize=(8,6))\n",
        "ax = plt.title(label = \"LCS\")\n",
        "\n",
        "linkage_matrix = linkage(result_lcs , \"ward\")\n",
        "dendo = dendrogram(linkage_matrix, labels=range(1, nb_sequences + 1),      \n",
        "                   color_threshold=600, above_threshold_color='black')\n",
        "hierarchy.set_link_color_palette(['#EE853A', '#BD2CB8', '#6151E6',])\n",
        "\n",
        "fig.savefig(\"lcs_dendo.pdf\")\n",
        "lcs_matrix = squareform(np.array(result_lcs))\n",
        "lcs_csv = np.savetxt(\"lcs_dist.csv\", lcs_matrix)"
      ],
      "execution_count": null,
      "outputs": [
        {
          "output_type": "display_data",
          "data": {
            "image/png": "[encoded data removed]",
            "text/plain": [
              "<Figure size 576x432 with 1 Axes>"
            ]
          },
          "metadata": {
            "tags": [],
            "needs_background": "light"
          }
        }
      ]
    },
    {
      "cell_type": "code",
      "metadata": {
        "colab": {
          "base_uri": "https://localhost:8080/",
          "height": 447
        },
        "id": "QyAWvswTN3oC",
        "outputId": "e4b95016-0262-418c-c388-bb6bf1d493c9"
      },
      "source": [
        "fig = plt.figure(figsize=(8,6))\n",
        "ax = plt.title(label = \"CED\")\n",
        "\n",
        "ced_dist = np.loadtxt(\"ced_dist.csv\", delimiter=\" \")\n",
        "linkage_matrix = linkage(ced_dist , \"ward\")\n",
        "dendo = dendrogram(linkage_matrix, labels=range(1, nb_sequences + 1),      \n",
        "                   color_threshold=300, above_threshold_color='black')\n",
        "\n",
        "hierarchy.set_link_color_palette(['#6151E6', '#EE853A', '#FF2600'])\n",
        "\n",
        "fig.savefig(\"ced_dendo.pdf\")"
      ],
      "execution_count": null,
      "outputs": [
        {
          "output_type": "stream",
          "text": [
            "/usr/local/lib/python3.6/dist-packages/ipykernel_launcher.py:5: ClusterWarning: scipy.cluster: The symmetric non-negative hollow observation matrix looks suspiciously like an uncondensed distance matrix\n",
            "  \"\"\"\n"
          ],
          "name": "stderr"
        },
        {
          "output_type": "display_data",
          "data": {
            "image/png": "[encoded data removed]",
            "text/plain": [
              "<Figure size 576x432 with 1 Axes>"
            ]
          },
          "metadata": {
            "tags": [],
            "needs_background": "light"
          }
        }
      ]
    },
    {
      "cell_type": "markdown",
      "metadata": {
        "id": "4A7KX7nAWcW4"
      },
      "source": [
        "# Sankey Diagram"
      ]
    },
    {
      "cell_type": "code",
      "metadata": {
        "colab": {
          "base_uri": "https://localhost:8080/",
          "height": 542
        },
        "id": "kf_pZBY9WeQP",
        "outputId": "bd598c6f-abde-4d55-c7da-8abb55c02aea"
      },
      "source": [
        "import plotly.graph_objects as go\n",
        "\n",
        "fig = go.Figure(data=[go.Sankey(\n",
        "    node = dict(\n",
        "      pad = 15,\n",
        "      thickness = 20,\n",
        "      line = dict(color = \"black\", width = 0.5),\n",
        "      label = [\"H1\", \"H2\", \"H3\", \"H4\", \"H5\", \"F1\", \"F2\", \"F3\", \"F4\", \"F5\"],\n",
        "      color = \"blue\"\n",
        "    ),\n",
        "    link = dict(\n",
        "      source = [0, 0, 0, 0, 0,    1, 1, 1, 1, 1,    2, 2, 2, 2, 2,   3, 3, 3, 3, 3,     4, 4, 4, 4, 4], \n",
        "      target = [5, 6, 7, 8, 9,    5, 6, 7, 8, 9,    5, 6, 7, 8, 9,   5, 6, 7, 8, 9,     5, 6, 7, 8, 9],\n",
        "      value = [184, 2, 0, 0, 0,  46, 509, 1, 47, 4,  0, 0, 54, 3, 0,  0, 0, 6, 327, 0,  0, 0, 0, 0 ,17]\n",
        "  ))])\n",
        "\n",
        "fig.update_layout(title_text=\"Basic Sankey Diagram\", font_size=10)\n",
        "fig.show()"
      ],
      "execution_count": null,
      "outputs": [
        {
          "output_type": "display_data",
          "data": {
            "text/html": [
              "<html>\n",
              "<head><meta charset=\"utf-8\" /></head>\n",
              "<body>\n",
              "    <div>\n",
              "            <script src=\"https://cdnjs.cloudflare.com/ajax/libs/mathjax/2.7.5/MathJax.js?config=TeX-AMS-MML_SVG\"></script><script type=\"text/javascript\">if (window.MathJax) {MathJax.Hub.Config({SVG: {font: \"STIX-Web\"}});}</script>\n",
              "                <script type=\"text/javascript\">window.PlotlyConfig = {MathJaxConfig: 'local'};</script>\n",
              "        <script src=\"https://cdn.plot.ly/plotly-latest.min.js\"></script>    \n",
              "            <div id=\"2bfccfe2-1ec2-4e2b-8f82-cb36edee669a\" class=\"plotly-graph-div\" style=\"height:525px; width:100%;\"></div>\n",
              "            <script type=\"text/javascript\">\n",
              "                \n",
              "                    window.PLOTLYENV=window.PLOTLYENV || {};\n",
              "                    \n",
              "                if (document.getElementById(\"2bfccfe2-1ec2-4e2b-8f82-cb36edee669a\")) {\n",
              "                    Plotly.newPlot(\n",
              "                        '2bfccfe2-1ec2-4e2b-8f82-cb36edee669a',\n",
              "                        [{\"link\": {\"source\": [0, 0, 0, 0, 0, 1, 1, 1, 1, 1, 2, 2, 2, 2, 2, 3, 3, 3, 3, 3, 4, 4, 4, 4, 4], \"target\": [5, 6, 7, 8, 9, 5, 6, 7, 8, 9, 5, 6, 7, 8, 9, 5, 6, 7, 8, 9, 5, 6, 7, 8, 9], \"value\": [184, 2, 0, 0, 0, 46, 509, 1, 47, 4, 0, 0, 54, 3, 0, 0, 0, 6, 327, 0, 0, 0, 0, 0, 17]}, \"node\": {\"color\": \"blue\", \"label\": [\"H1\", \"H2\", \"H3\", \"H4\", \"H5\", \"F1\", \"F2\", \"F3\", \"F4\", \"F5\"], \"line\": {\"color\": \"black\", \"width\": 0.5}, \"pad\": 15, \"thickness\": 20}, \"type\": \"sankey\"}],\n",
              "                        {\"font\": {\"size\": 10}, \"template\": {\"data\": {\"bar\": [{\"error_x\": {\"color\": \"#2a3f5f\"}, \"error_y\": {\"color\": \"#2a3f5f\"}, \"marker\": {\"line\": {\"color\": \"#E5ECF6\", \"width\": 0.5}}, \"type\": \"bar\"}], \"barpolar\": [{\"marker\": {\"line\": {\"color\": \"#E5ECF6\", \"width\": 0.5}}, \"type\": \"barpolar\"}], \"carpet\": [{\"aaxis\": {\"endlinecolor\": \"#2a3f5f\", \"gridcolor\": \"white\", \"linecolor\": \"white\", \"minorgridcolor\": \"white\", \"startlinecolor\": \"#2a3f5f\"}, \"baxis\": {\"endlinecolor\": \"#2a3f5f\", \"gridcolor\": \"white\", \"linecolor\": \"white\", \"minorgridcolor\": \"white\", \"startlinecolor\": \"#2a3f5f\"}, \"type\": \"carpet\"}], \"choropleth\": [{\"colorbar\": {\"outlinewidth\": 0, \"ticks\": \"\"}, \"type\": \"choropleth\"}], \"contour\": [{\"colorbar\": {\"outlinewidth\": 0, \"ticks\": \"\"}, \"colorscale\": [[0.0, \"#0d0887\"], [0.1111111111111111, \"#46039f\"], [0.2222222222222222, \"#7201a8\"], [0.3333333333333333, \"#9c179e\"], [0.4444444444444444, \"#bd3786\"], [0.5555555555555556, \"#d8576b\"], [0.6666666666666666, \"#ed7953\"], [0.7777777777777778, \"#fb9f3a\"], [0.8888888888888888, \"#fdca26\"], [1.0, \"#f0f921\"]], \"type\": \"contour\"}], \"contourcarpet\": [{\"colorbar\": {\"outlinewidth\": 0, \"ticks\": \"\"}, \"type\": \"contourcarpet\"}], \"heatmap\": [{\"colorbar\": {\"outlinewidth\": 0, \"ticks\": \"\"}, \"colorscale\": [[0.0, \"#0d0887\"], [0.1111111111111111, \"#46039f\"], [0.2222222222222222, \"#7201a8\"], [0.3333333333333333, \"#9c179e\"], [0.4444444444444444, \"#bd3786\"], [0.5555555555555556, \"#d8576b\"], [0.6666666666666666, \"#ed7953\"], [0.7777777777777778, \"#fb9f3a\"], [0.8888888888888888, \"#fdca26\"], [1.0, \"#f0f921\"]], \"type\": \"heatmap\"}], \"heatmapgl\": [{\"colorbar\": {\"outlinewidth\": 0, \"ticks\": \"\"}, \"colorscale\": [[0.0, \"#0d0887\"], [0.1111111111111111, \"#46039f\"], [0.2222222222222222, \"#7201a8\"], [0.3333333333333333, \"#9c179e\"], [0.4444444444444444, \"#bd3786\"], [0.5555555555555556, \"#d8576b\"], [0.6666666666666666, \"#ed7953\"], [0.7777777777777778, \"#fb9f3a\"], [0.8888888888888888, \"#fdca26\"], [1.0, \"#f0f921\"]], \"type\": \"heatmapgl\"}], \"histogram\": [{\"marker\": {\"colorbar\": {\"outlinewidth\": 0, \"ticks\": \"\"}}, \"type\": \"histogram\"}], \"histogram2d\": [{\"colorbar\": {\"outlinewidth\": 0, \"ticks\": \"\"}, \"colorscale\": [[0.0, \"#0d0887\"], [0.1111111111111111, \"#46039f\"], [0.2222222222222222, \"#7201a8\"], [0.3333333333333333, \"#9c179e\"], [0.4444444444444444, \"#bd3786\"], [0.5555555555555556, \"#d8576b\"], [0.6666666666666666, \"#ed7953\"], [0.7777777777777778, \"#fb9f3a\"], [0.8888888888888888, \"#fdca26\"], [1.0, \"#f0f921\"]], \"type\": \"histogram2d\"}], \"histogram2dcontour\": [{\"colorbar\": {\"outlinewidth\": 0, \"ticks\": \"\"}, \"colorscale\": [[0.0, \"#0d0887\"], [0.1111111111111111, \"#46039f\"], [0.2222222222222222, \"#7201a8\"], [0.3333333333333333, \"#9c179e\"], [0.4444444444444444, \"#bd3786\"], [0.5555555555555556, \"#d8576b\"], [0.6666666666666666, \"#ed7953\"], [0.7777777777777778, \"#fb9f3a\"], [0.8888888888888888, \"#fdca26\"], [1.0, \"#f0f921\"]], \"type\": \"histogram2dcontour\"}], \"mesh3d\": [{\"colorbar\": {\"outlinewidth\": 0, \"ticks\": \"\"}, \"type\": \"mesh3d\"}], \"parcoords\": [{\"line\": {\"colorbar\": {\"outlinewidth\": 0, \"ticks\": \"\"}}, \"type\": \"parcoords\"}], \"pie\": [{\"automargin\": true, \"type\": \"pie\"}], \"scatter\": [{\"marker\": {\"colorbar\": {\"outlinewidth\": 0, \"ticks\": \"\"}}, \"type\": \"scatter\"}], \"scatter3d\": [{\"line\": {\"colorbar\": {\"outlinewidth\": 0, \"ticks\": \"\"}}, \"marker\": {\"colorbar\": {\"outlinewidth\": 0, \"ticks\": \"\"}}, \"type\": \"scatter3d\"}], \"scattercarpet\": [{\"marker\": {\"colorbar\": {\"outlinewidth\": 0, \"ticks\": \"\"}}, \"type\": \"scattercarpet\"}], \"scattergeo\": [{\"marker\": {\"colorbar\": {\"outlinewidth\": 0, \"ticks\": \"\"}}, \"type\": \"scattergeo\"}], \"scattergl\": [{\"marker\": {\"colorbar\": {\"outlinewidth\": 0, \"ticks\": \"\"}}, \"type\": \"scattergl\"}], \"scattermapbox\": [{\"marker\": {\"colorbar\": {\"outlinewidth\": 0, \"ticks\": \"\"}}, \"type\": \"scattermapbox\"}], \"scatterpolar\": [{\"marker\": {\"colorbar\": {\"outlinewidth\": 0, \"ticks\": \"\"}}, \"type\": \"scatterpolar\"}], \"scatterpolargl\": [{\"marker\": {\"colorbar\": {\"outlinewidth\": 0, \"ticks\": \"\"}}, \"type\": \"scatterpolargl\"}], \"scatterternary\": [{\"marker\": {\"colorbar\": {\"outlinewidth\": 0, \"ticks\": \"\"}}, \"type\": \"scatterternary\"}], \"surface\": [{\"colorbar\": {\"outlinewidth\": 0, \"ticks\": \"\"}, \"colorscale\": [[0.0, \"#0d0887\"], [0.1111111111111111, \"#46039f\"], [0.2222222222222222, \"#7201a8\"], [0.3333333333333333, \"#9c179e\"], [0.4444444444444444, \"#bd3786\"], [0.5555555555555556, \"#d8576b\"], [0.6666666666666666, \"#ed7953\"], [0.7777777777777778, \"#fb9f3a\"], [0.8888888888888888, \"#fdca26\"], [1.0, \"#f0f921\"]], \"type\": \"surface\"}], \"table\": [{\"cells\": {\"fill\": {\"color\": \"#EBF0F8\"}, \"line\": {\"color\": \"white\"}}, \"header\": {\"fill\": {\"color\": \"#C8D4E3\"}, \"line\": {\"color\": \"white\"}}, \"type\": \"table\"}]}, \"layout\": {\"annotationdefaults\": {\"arrowcolor\": \"#2a3f5f\", \"arrowhead\": 0, \"arrowwidth\": 1}, \"coloraxis\": {\"colorbar\": {\"outlinewidth\": 0, \"ticks\": \"\"}}, \"colorscale\": {\"diverging\": [[0, \"#8e0152\"], [0.1, \"#c51b7d\"], [0.2, \"#de77ae\"], [0.3, \"#f1b6da\"], [0.4, \"#fde0ef\"], [0.5, \"#f7f7f7\"], [0.6, \"#e6f5d0\"], [0.7, \"#b8e186\"], [0.8, \"#7fbc41\"], [0.9, \"#4d9221\"], [1, \"#276419\"]], \"sequential\": [[0.0, \"#0d0887\"], [0.1111111111111111, \"#46039f\"], [0.2222222222222222, \"#7201a8\"], [0.3333333333333333, \"#9c179e\"], [0.4444444444444444, \"#bd3786\"], [0.5555555555555556, \"#d8576b\"], [0.6666666666666666, \"#ed7953\"], [0.7777777777777778, \"#fb9f3a\"], [0.8888888888888888, \"#fdca26\"], [1.0, \"#f0f921\"]], \"sequentialminus\": [[0.0, \"#0d0887\"], [0.1111111111111111, \"#46039f\"], [0.2222222222222222, \"#7201a8\"], [0.3333333333333333, \"#9c179e\"], [0.4444444444444444, \"#bd3786\"], [0.5555555555555556, \"#d8576b\"], [0.6666666666666666, \"#ed7953\"], [0.7777777777777778, \"#fb9f3a\"], [0.8888888888888888, \"#fdca26\"], [1.0, \"#f0f921\"]]}, \"colorway\": [\"#636efa\", \"#EF553B\", \"#00cc96\", \"#ab63fa\", \"#FFA15A\", \"#19d3f3\", \"#FF6692\", \"#B6E880\", \"#FF97FF\", \"#FECB52\"], \"font\": {\"color\": \"#2a3f5f\"}, \"geo\": {\"bgcolor\": \"white\", \"lakecolor\": \"white\", \"landcolor\": \"#E5ECF6\", \"showlakes\": true, \"showland\": true, \"subunitcolor\": \"white\"}, \"hoverlabel\": {\"align\": \"left\"}, \"hovermode\": \"closest\", \"mapbox\": {\"style\": \"light\"}, \"paper_bgcolor\": \"white\", \"plot_bgcolor\": \"#E5ECF6\", \"polar\": {\"angularaxis\": {\"gridcolor\": \"white\", \"linecolor\": \"white\", \"ticks\": \"\"}, \"bgcolor\": \"#E5ECF6\", \"radialaxis\": {\"gridcolor\": \"white\", \"linecolor\": \"white\", \"ticks\": \"\"}}, \"scene\": {\"xaxis\": {\"backgroundcolor\": \"#E5ECF6\", \"gridcolor\": \"white\", \"gridwidth\": 2, \"linecolor\": \"white\", \"showbackground\": true, \"ticks\": \"\", \"zerolinecolor\": \"white\"}, \"yaxis\": {\"backgroundcolor\": \"#E5ECF6\", \"gridcolor\": \"white\", \"gridwidth\": 2, \"linecolor\": \"white\", \"showbackground\": true, \"ticks\": \"\", \"zerolinecolor\": \"white\"}, \"zaxis\": {\"backgroundcolor\": \"#E5ECF6\", \"gridcolor\": \"white\", \"gridwidth\": 2, \"linecolor\": \"white\", \"showbackground\": true, \"ticks\": \"\", \"zerolinecolor\": \"white\"}}, \"shapedefaults\": {\"line\": {\"color\": \"#2a3f5f\"}}, \"ternary\": {\"aaxis\": {\"gridcolor\": \"white\", \"linecolor\": \"white\", \"ticks\": \"\"}, \"baxis\": {\"gridcolor\": \"white\", \"linecolor\": \"white\", \"ticks\": \"\"}, \"bgcolor\": \"#E5ECF6\", \"caxis\": {\"gridcolor\": \"white\", \"linecolor\": \"white\", \"ticks\": \"\"}}, \"title\": {\"x\": 0.05}, \"xaxis\": {\"automargin\": true, \"gridcolor\": \"white\", \"linecolor\": \"white\", \"ticks\": \"\", \"title\": {\"standoff\": 15}, \"zerolinecolor\": \"white\", \"zerolinewidth\": 2}, \"yaxis\": {\"automargin\": true, \"gridcolor\": \"white\", \"linecolor\": \"white\", \"ticks\": \"\", \"title\": {\"standoff\": 15}, \"zerolinecolor\": \"white\", \"zerolinewidth\": 2}}}, \"title\": {\"text\": \"Basic Sankey Diagram\"}},\n",
              "                        {\"responsive\": true}\n",
              "                    ).then(function(){\n",
              "                            \n",
              "var gd = document.getElementById('2bfccfe2-1ec2-4e2b-8f82-cb36edee669a');\n",
              "var x = new MutationObserver(function (mutations, observer) {{\n",
              "        var display = window.getComputedStyle(gd).display;\n",
              "        if (!display || display === 'none') {{\n",
              "            console.log([gd, 'removed!']);\n",
              "            Plotly.purge(gd);\n",
              "            observer.disconnect();\n",
              "        }}\n",
              "}});\n",
              "\n",
              "// Listen for the removal of the full notebook cells\n",
              "var notebookContainer = gd.closest('#notebook-container');\n",
              "if (notebookContainer) {{\n",
              "    x.observe(notebookContainer, {childList: true});\n",
              "}}\n",
              "\n",
              "// Listen for the clearing of the current output cell\n",
              "var outputEl = gd.closest('.output');\n",
              "if (outputEl) {{\n",
              "    x.observe(outputEl, {childList: true});\n",
              "}}\n",
              "\n",
              "                        })\n",
              "                };\n",
              "                \n",
              "            </script>\n",
              "        </div>\n",
              "</body>\n",
              "</html>"
            ]
          },
          "metadata": {
            "tags": []
          }
        }
      ]
    },
    {
      "cell_type": "code",
      "metadata": {
        "colab": {
          "base_uri": "https://localhost:8080/",
          "height": 542
        },
        "id": "SuCEUFPSE8uX",
        "outputId": "f6283627-7eda-4682-f179-aa1abcaaaaec"
      },
      "source": [
        "fig = go.Figure(data=[go.Sankey(\n",
        "    node = dict(\n",
        "      pad = 15,\n",
        "      thickness = 20,\n",
        "      line = dict(color = \"black\", width = 0.5),\n",
        "      label = [\"H1\", \"H2\", \"H3\", \"H4\", \"H5\", \"FTHΔ-1\", \"FTHΔ-2\", \"FTHΔ-3\", \"FTHΔ-4\", \"FTHΔ-5\",\n",
        "               \"FTHγ-1\", \"FTHγ-2\", \"FTHγ-3\", \"FTHγ-4\", \"FTHγ-5\"],\n",
        "      color = \"blue\"\n",
        "    ),\n",
        "    link = dict(\n",
        "      source = [0, 0, 0, 0, 0,    1, 1, 1, 1, 1,       2, 2, 2, 2, 2,     3, 3, 3, 3, 3,         4, 4, 4, 4, 4,\n",
        "                5, 5, 5, 5, 5,    6, 6, 6, 6, 6,       7, 7, 7, 7, 7,     8, 8, 8, 8, 8,         9, 9, 9, 9, 9], \n",
        "      target = [5, 6, 7, 8, 9,    5, 6, 7, 8, 9,        5, 6, 7, 8, 9,     5, 6, 7, 8, 9,        5, 6, 7, 8, 9,\n",
        "              10, 11, 12, 13, 14, 10, 11, 12, 13, 14, 10, 11, 12, 13, 14, 10, 11, 12, 13, 14, 10, 11, 12, 13, 14],\n",
        "      value = [184, 2, 0, 0, 0,  46, 509, 1, 47, 4,  0, 0, 54, 3, 0,  0, 0, 6, 327, 0,  0, 0, 0, 0 ,17,\n",
        "               74, 56, 1, 96, 3,  56, 174, 5, 208, 68, 6, 9, 30, 11, 5, 43, 55, 136, 127, 16, 4, 7, 6, 4, 0]\n",
        "  ))])\n",
        "\n",
        "fig.update_layout(title_text=\"Basic Sankey Diagram\", font_size=10)\n",
        "fig.show()\n"
      ],
      "execution_count": null,
      "outputs": [
        {
          "output_type": "display_data",
          "data": {
            "text/html": [
              "<html>\n",
              "<head><meta charset=\"utf-8\" /></head>\n",
              "<body>\n",
              "    <div>\n",
              "            <script src=\"https://cdnjs.cloudflare.com/ajax/libs/mathjax/2.7.5/MathJax.js?config=TeX-AMS-MML_SVG\"></script><script type=\"text/javascript\">if (window.MathJax) {MathJax.Hub.Config({SVG: {font: \"STIX-Web\"}});}</script>\n",
              "                <script type=\"text/javascript\">window.PlotlyConfig = {MathJaxConfig: 'local'};</script>\n",
              "        <script src=\"https://cdn.plot.ly/plotly-latest.min.js\"></script>    \n",
              "            <div id=\"6cfdbcdc-8922-484b-a55c-9e6cbfee9307\" class=\"plotly-graph-div\" style=\"height:525px; width:100%;\"></div>\n",
              "            <script type=\"text/javascript\">\n",
              "                \n",
              "                    window.PLOTLYENV=window.PLOTLYENV || {};\n",
              "                    \n",
              "                if (document.getElementById(\"6cfdbcdc-8922-484b-a55c-9e6cbfee9307\")) {\n",
              "                    Plotly.newPlot(\n",
              "                        '6cfdbcdc-8922-484b-a55c-9e6cbfee9307',\n",
              "                        [{\"link\": {\"source\": [0, 0, 0, 0, 0, 1, 1, 1, 1, 1, 2, 2, 2, 2, 2, 3, 3, 3, 3, 3, 4, 4, 4, 4, 4, 5, 5, 5, 5, 5, 6, 6, 6, 6, 6, 7, 7, 7, 7, 7, 8, 8, 8, 8, 8, 9, 9, 9, 9, 9], \"target\": [5, 6, 7, 8, 9, 5, 6, 7, 8, 9, 5, 6, 7, 8, 9, 5, 6, 7, 8, 9, 5, 6, 7, 8, 9, 10, 11, 12, 13, 14, 10, 11, 12, 13, 14, 10, 11, 12, 13, 14, 10, 11, 12, 13, 14, 10, 11, 12, 13, 14], \"value\": [184, 2, 0, 0, 0, 46, 509, 1, 47, 4, 0, 0, 54, 3, 0, 0, 0, 6, 327, 0, 0, 0, 0, 0, 17, 74, 56, 1, 96, 3, 56, 174, 5, 208, 68, 6, 9, 30, 11, 5, 43, 55, 136, 127, 16, 4, 7, 6, 4, 0]}, \"node\": {\"color\": \"blue\", \"label\": [\"H1\", \"H2\", \"H3\", \"H4\", \"H5\", \"FTH\\u0394-1\", \"FTH\\u0394-2\", \"FTH\\u0394-3\", \"FTH\\u0394-4\", \"FTH\\u0394-5\", \"FTH\\u03b3-1\", \"FTH\\u03b3-2\", \"FTH\\u03b3-3\", \"FTH\\u03b3-4\", \"FTH\\u03b3-5\"], \"line\": {\"color\": \"black\", \"width\": 0.5}, \"pad\": 15, \"thickness\": 20}, \"type\": \"sankey\"}],\n",
              "                        {\"font\": {\"size\": 10}, \"template\": {\"data\": {\"bar\": [{\"error_x\": {\"color\": \"#2a3f5f\"}, \"error_y\": {\"color\": \"#2a3f5f\"}, \"marker\": {\"line\": {\"color\": \"#E5ECF6\", \"width\": 0.5}}, \"type\": \"bar\"}], \"barpolar\": [{\"marker\": {\"line\": {\"color\": \"#E5ECF6\", \"width\": 0.5}}, \"type\": \"barpolar\"}], \"carpet\": [{\"aaxis\": {\"endlinecolor\": \"#2a3f5f\", \"gridcolor\": \"white\", \"linecolor\": \"white\", \"minorgridcolor\": \"white\", \"startlinecolor\": \"#2a3f5f\"}, \"baxis\": {\"endlinecolor\": \"#2a3f5f\", \"gridcolor\": \"white\", \"linecolor\": \"white\", \"minorgridcolor\": \"white\", \"startlinecolor\": \"#2a3f5f\"}, \"type\": \"carpet\"}], \"choropleth\": [{\"colorbar\": {\"outlinewidth\": 0, \"ticks\": \"\"}, \"type\": \"choropleth\"}], \"contour\": [{\"colorbar\": {\"outlinewidth\": 0, \"ticks\": \"\"}, \"colorscale\": [[0.0, \"#0d0887\"], [0.1111111111111111, \"#46039f\"], [0.2222222222222222, \"#7201a8\"], [0.3333333333333333, \"#9c179e\"], [0.4444444444444444, \"#bd3786\"], [0.5555555555555556, \"#d8576b\"], [0.6666666666666666, \"#ed7953\"], [0.7777777777777778, \"#fb9f3a\"], [0.8888888888888888, \"#fdca26\"], [1.0, \"#f0f921\"]], \"type\": \"contour\"}], \"contourcarpet\": [{\"colorbar\": {\"outlinewidth\": 0, \"ticks\": \"\"}, \"type\": \"contourcarpet\"}], \"heatmap\": [{\"colorbar\": {\"outlinewidth\": 0, \"ticks\": \"\"}, \"colorscale\": [[0.0, \"#0d0887\"], [0.1111111111111111, \"#46039f\"], [0.2222222222222222, \"#7201a8\"], [0.3333333333333333, \"#9c179e\"], [0.4444444444444444, \"#bd3786\"], [0.5555555555555556, \"#d8576b\"], [0.6666666666666666, \"#ed7953\"], [0.7777777777777778, \"#fb9f3a\"], [0.8888888888888888, \"#fdca26\"], [1.0, \"#f0f921\"]], \"type\": \"heatmap\"}], \"heatmapgl\": [{\"colorbar\": {\"outlinewidth\": 0, \"ticks\": \"\"}, \"colorscale\": [[0.0, \"#0d0887\"], [0.1111111111111111, \"#46039f\"], [0.2222222222222222, \"#7201a8\"], [0.3333333333333333, \"#9c179e\"], [0.4444444444444444, \"#bd3786\"], [0.5555555555555556, \"#d8576b\"], [0.6666666666666666, \"#ed7953\"], [0.7777777777777778, \"#fb9f3a\"], [0.8888888888888888, \"#fdca26\"], [1.0, \"#f0f921\"]], \"type\": \"heatmapgl\"}], \"histogram\": [{\"marker\": {\"colorbar\": {\"outlinewidth\": 0, \"ticks\": \"\"}}, \"type\": \"histogram\"}], \"histogram2d\": [{\"colorbar\": {\"outlinewidth\": 0, \"ticks\": \"\"}, \"colorscale\": [[0.0, \"#0d0887\"], [0.1111111111111111, \"#46039f\"], [0.2222222222222222, \"#7201a8\"], [0.3333333333333333, \"#9c179e\"], [0.4444444444444444, \"#bd3786\"], [0.5555555555555556, \"#d8576b\"], [0.6666666666666666, \"#ed7953\"], [0.7777777777777778, \"#fb9f3a\"], [0.8888888888888888, \"#fdca26\"], [1.0, \"#f0f921\"]], \"type\": \"histogram2d\"}], \"histogram2dcontour\": [{\"colorbar\": {\"outlinewidth\": 0, \"ticks\": \"\"}, \"colorscale\": [[0.0, \"#0d0887\"], [0.1111111111111111, \"#46039f\"], [0.2222222222222222, \"#7201a8\"], [0.3333333333333333, \"#9c179e\"], [0.4444444444444444, \"#bd3786\"], [0.5555555555555556, \"#d8576b\"], [0.6666666666666666, \"#ed7953\"], [0.7777777777777778, \"#fb9f3a\"], [0.8888888888888888, \"#fdca26\"], [1.0, \"#f0f921\"]], \"type\": \"histogram2dcontour\"}], \"mesh3d\": [{\"colorbar\": {\"outlinewidth\": 0, \"ticks\": \"\"}, \"type\": \"mesh3d\"}], \"parcoords\": [{\"line\": {\"colorbar\": {\"outlinewidth\": 0, \"ticks\": \"\"}}, \"type\": \"parcoords\"}], \"pie\": [{\"automargin\": true, \"type\": \"pie\"}], \"scatter\": [{\"marker\": {\"colorbar\": {\"outlinewidth\": 0, \"ticks\": \"\"}}, \"type\": \"scatter\"}], \"scatter3d\": [{\"line\": {\"colorbar\": {\"outlinewidth\": 0, \"ticks\": \"\"}}, \"marker\": {\"colorbar\": {\"outlinewidth\": 0, \"ticks\": \"\"}}, \"type\": \"scatter3d\"}], \"scattercarpet\": [{\"marker\": {\"colorbar\": {\"outlinewidth\": 0, \"ticks\": \"\"}}, \"type\": \"scattercarpet\"}], \"scattergeo\": [{\"marker\": {\"colorbar\": {\"outlinewidth\": 0, \"ticks\": \"\"}}, \"type\": \"scattergeo\"}], \"scattergl\": [{\"marker\": {\"colorbar\": {\"outlinewidth\": 0, \"ticks\": \"\"}}, \"type\": \"scattergl\"}], \"scattermapbox\": [{\"marker\": {\"colorbar\": {\"outlinewidth\": 0, \"ticks\": \"\"}}, \"type\": \"scattermapbox\"}], \"scatterpolar\": [{\"marker\": {\"colorbar\": {\"outlinewidth\": 0, \"ticks\": \"\"}}, \"type\": \"scatterpolar\"}], \"scatterpolargl\": [{\"marker\": {\"colorbar\": {\"outlinewidth\": 0, \"ticks\": \"\"}}, \"type\": \"scatterpolargl\"}], \"scatterternary\": [{\"marker\": {\"colorbar\": {\"outlinewidth\": 0, \"ticks\": \"\"}}, \"type\": \"scatterternary\"}], \"surface\": [{\"colorbar\": {\"outlinewidth\": 0, \"ticks\": \"\"}, \"colorscale\": [[0.0, \"#0d0887\"], [0.1111111111111111, \"#46039f\"], [0.2222222222222222, \"#7201a8\"], [0.3333333333333333, \"#9c179e\"], [0.4444444444444444, \"#bd3786\"], [0.5555555555555556, \"#d8576b\"], [0.6666666666666666, \"#ed7953\"], [0.7777777777777778, \"#fb9f3a\"], [0.8888888888888888, \"#fdca26\"], [1.0, \"#f0f921\"]], \"type\": \"surface\"}], \"table\": [{\"cells\": {\"fill\": {\"color\": \"#EBF0F8\"}, \"line\": {\"color\": \"white\"}}, \"header\": {\"fill\": {\"color\": \"#C8D4E3\"}, \"line\": {\"color\": \"white\"}}, \"type\": \"table\"}]}, \"layout\": {\"annotationdefaults\": {\"arrowcolor\": \"#2a3f5f\", \"arrowhead\": 0, \"arrowwidth\": 1}, \"coloraxis\": {\"colorbar\": {\"outlinewidth\": 0, \"ticks\": \"\"}}, \"colorscale\": {\"diverging\": [[0, \"#8e0152\"], [0.1, \"#c51b7d\"], [0.2, \"#de77ae\"], [0.3, \"#f1b6da\"], [0.4, \"#fde0ef\"], [0.5, \"#f7f7f7\"], [0.6, \"#e6f5d0\"], [0.7, \"#b8e186\"], [0.8, \"#7fbc41\"], [0.9, \"#4d9221\"], [1, \"#276419\"]], \"sequential\": [[0.0, \"#0d0887\"], [0.1111111111111111, \"#46039f\"], [0.2222222222222222, \"#7201a8\"], [0.3333333333333333, \"#9c179e\"], [0.4444444444444444, \"#bd3786\"], [0.5555555555555556, \"#d8576b\"], [0.6666666666666666, \"#ed7953\"], [0.7777777777777778, \"#fb9f3a\"], [0.8888888888888888, \"#fdca26\"], [1.0, \"#f0f921\"]], \"sequentialminus\": [[0.0, \"#0d0887\"], [0.1111111111111111, \"#46039f\"], [0.2222222222222222, \"#7201a8\"], [0.3333333333333333, \"#9c179e\"], [0.4444444444444444, \"#bd3786\"], [0.5555555555555556, \"#d8576b\"], [0.6666666666666666, \"#ed7953\"], [0.7777777777777778, \"#fb9f3a\"], [0.8888888888888888, \"#fdca26\"], [1.0, \"#f0f921\"]]}, \"colorway\": [\"#636efa\", \"#EF553B\", \"#00cc96\", \"#ab63fa\", \"#FFA15A\", \"#19d3f3\", \"#FF6692\", \"#B6E880\", \"#FF97FF\", \"#FECB52\"], \"font\": {\"color\": \"#2a3f5f\"}, \"geo\": {\"bgcolor\": \"white\", \"lakecolor\": \"white\", \"landcolor\": \"#E5ECF6\", \"showlakes\": true, \"showland\": true, \"subunitcolor\": \"white\"}, \"hoverlabel\": {\"align\": \"left\"}, \"hovermode\": \"closest\", \"mapbox\": {\"style\": \"light\"}, \"paper_bgcolor\": \"white\", \"plot_bgcolor\": \"#E5ECF6\", \"polar\": {\"angularaxis\": {\"gridcolor\": \"white\", \"linecolor\": \"white\", \"ticks\": \"\"}, \"bgcolor\": \"#E5ECF6\", \"radialaxis\": {\"gridcolor\": \"white\", \"linecolor\": \"white\", \"ticks\": \"\"}}, \"scene\": {\"xaxis\": {\"backgroundcolor\": \"#E5ECF6\", \"gridcolor\": \"white\", \"gridwidth\": 2, \"linecolor\": \"white\", \"showbackground\": true, \"ticks\": \"\", \"zerolinecolor\": \"white\"}, \"yaxis\": {\"backgroundcolor\": \"#E5ECF6\", \"gridcolor\": \"white\", \"gridwidth\": 2, \"linecolor\": \"white\", \"showbackground\": true, \"ticks\": \"\", \"zerolinecolor\": \"white\"}, \"zaxis\": {\"backgroundcolor\": \"#E5ECF6\", \"gridcolor\": \"white\", \"gridwidth\": 2, \"linecolor\": \"white\", \"showbackground\": true, \"ticks\": \"\", \"zerolinecolor\": \"white\"}}, \"shapedefaults\": {\"line\": {\"color\": \"#2a3f5f\"}}, \"ternary\": {\"aaxis\": {\"gridcolor\": \"white\", \"linecolor\": \"white\", \"ticks\": \"\"}, \"baxis\": {\"gridcolor\": \"white\", \"linecolor\": \"white\", \"ticks\": \"\"}, \"bgcolor\": \"#E5ECF6\", \"caxis\": {\"gridcolor\": \"white\", \"linecolor\": \"white\", \"ticks\": \"\"}}, \"title\": {\"x\": 0.05}, \"xaxis\": {\"automargin\": true, \"gridcolor\": \"white\", \"linecolor\": \"white\", \"ticks\": \"\", \"title\": {\"standoff\": 15}, \"zerolinecolor\": \"white\", \"zerolinewidth\": 2}, \"yaxis\": {\"automargin\": true, \"gridcolor\": \"white\", \"linecolor\": \"white\", \"ticks\": \"\", \"title\": {\"standoff\": 15}, \"zerolinecolor\": \"white\", \"zerolinewidth\": 2}}}, \"title\": {\"text\": \"Basic Sankey Diagram\"}},\n",
              "                        {\"responsive\": true}\n",
              "                    ).then(function(){\n",
              "                            \n",
              "var gd = document.getElementById('6cfdbcdc-8922-484b-a55c-9e6cbfee9307');\n",
              "var x = new MutationObserver(function (mutations, observer) {{\n",
              "        var display = window.getComputedStyle(gd).display;\n",
              "        if (!display || display === 'none') {{\n",
              "            console.log([gd, 'removed!']);\n",
              "            Plotly.purge(gd);\n",
              "            observer.disconnect();\n",
              "        }}\n",
              "}});\n",
              "\n",
              "// Listen for the removal of the full notebook cells\n",
              "var notebookContainer = gd.closest('#notebook-container');\n",
              "if (notebookContainer) {{\n",
              "    x.observe(notebookContainer, {childList: true});\n",
              "}}\n",
              "\n",
              "// Listen for the clearing of the current output cell\n",
              "var outputEl = gd.closest('.output');\n",
              "if (outputEl) {{\n",
              "    x.observe(outputEl, {childList: true});\n",
              "}}\n",
              "\n",
              "                        })\n",
              "                };\n",
              "                \n",
              "            </script>\n",
              "        </div>\n",
              "</body>\n",
              "</html>"
            ]
          },
          "metadata": {
            "tags": []
          }
        }
      ]
    }
  ]
}